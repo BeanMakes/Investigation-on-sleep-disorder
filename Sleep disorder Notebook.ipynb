{
 "cells": [
  {
   "cell_type": "markdown",
   "id": "f96af425",
   "metadata": {},
   "source": [
    "# Invesitgation on sleep disorders\n",
    "\n",
    "This project will use synthesis dataset from kaggle and investigate using traditional machine learning and data visulisation the cause of sleep disorders.\n"
   ]
  },
  {
   "cell_type": "markdown",
   "id": "f05cd4c4",
   "metadata": {},
   "source": [
    "## Importing the data from kaggle\n",
    "\n",
    "We will import the dataset directly onto our device and print the path of where it is installed."
   ]
  },
  {
   "cell_type": "code",
   "execution_count": 1,
   "id": "55e4e84c",
   "metadata": {},
   "outputs": [
    {
     "name": "stdout",
     "output_type": "stream",
     "text": [
      "Requirement already satisfied: kagglehub in c:\\users\\benda\\anaconda3\\lib\\site-packages (0.2.9)\n",
      "Requirement already satisfied: requests in c:\\users\\benda\\anaconda3\\lib\\site-packages (from kagglehub) (2.28.1)\n",
      "Requirement already satisfied: tqdm in c:\\users\\benda\\anaconda3\\lib\\site-packages (from kagglehub) (4.64.1)\n",
      "Requirement already satisfied: packaging in c:\\users\\benda\\anaconda3\\lib\\site-packages (from kagglehub) (22.0)\n",
      "Requirement already satisfied: idna<4,>=2.5 in c:\\users\\benda\\anaconda3\\lib\\site-packages (from requests->kagglehub) (3.4)\n",
      "Requirement already satisfied: certifi>=2017.4.17 in c:\\users\\benda\\anaconda3\\lib\\site-packages (from requests->kagglehub) (2022.12.7)\n",
      "Requirement already satisfied: charset-normalizer<3,>=2 in c:\\users\\benda\\anaconda3\\lib\\site-packages (from requests->kagglehub) (2.0.4)\n",
      "Requirement already satisfied: urllib3<1.27,>=1.21.1 in c:\\users\\benda\\anaconda3\\lib\\site-packages (from requests->kagglehub) (1.26.13)\n",
      "Requirement already satisfied: colorama; platform_system == \"Windows\" in c:\\users\\benda\\anaconda3\\lib\\site-packages (from tqdm->kagglehub) (0.4.5)\n"
     ]
    },
    {
     "name": "stderr",
     "output_type": "stream",
     "text": [
      "WARNING: You are using pip version 20.2.2; however, version 24.0 is available.\n",
      "You should consider upgrading via the 'c:\\users\\benda\\anaconda3\\python.exe -m pip install --upgrade pip' command.\n"
     ]
    },
    {
     "name": "stdout",
     "output_type": "stream",
     "text": [
      "Warning: Looks like you're using an outdated `kagglehub` version, please consider updating (latest version: 0.3.6)\n",
      "Path to dataset files: C:\\Users\\benda\\.cache\\kagglehub\\datasets\\siamaktahmasbi\\insights-into-sleep-patterns-and-daily-habits\\versions\\1\n"
     ]
    }
   ],
   "source": [
    "!pip install kagglehub\n",
    "import kagglehub\n",
    "\n",
    "# Download latest version\n",
    "path = kagglehub.dataset_download(\"siamaktahmasbi/insights-into-sleep-patterns-and-daily-habits\")\n",
    "\n",
    "print(\"Path to dataset files:\", path)"
   ]
  },
  {
   "cell_type": "markdown",
   "id": "a8cf8697",
   "metadata": {},
   "source": [
    "Then we will visulise the head of the dataset using pandas,"
   ]
  },
  {
   "cell_type": "code",
   "execution_count": 2,
   "id": "2862a39a",
   "metadata": {},
   "outputs": [
    {
     "name": "stdout",
     "output_type": "stream",
     "text": [
      "Requirement already satisfied: pandas in c:\\users\\benda\\anaconda3\\lib\\site-packages (1.3.5)\n",
      "Requirement already satisfied: numpy>=1.17.3; platform_machine != \"aarch64\" and platform_machine != \"arm64\" and python_version < \"3.10\" in c:\\users\\benda\\anaconda3\\lib\\site-packages (from pandas) (1.21.5)\n",
      "Requirement already satisfied: python-dateutil>=2.7.3 in c:\\users\\benda\\anaconda3\\lib\\site-packages (from pandas) (2.8.2)\n",
      "Requirement already satisfied: pytz>=2017.3 in c:\\users\\benda\\anaconda3\\lib\\site-packages (from pandas) (2022.7)\n",
      "Requirement already satisfied: six>=1.5 in c:\\users\\benda\\anaconda3\\lib\\site-packages (from python-dateutil>=2.7.3->pandas) (1.16.0)\n"
     ]
    },
    {
     "name": "stderr",
     "output_type": "stream",
     "text": [
      "WARNING: You are using pip version 20.2.2; however, version 24.0 is available.\n",
      "You should consider upgrading via the 'c:\\users\\benda\\anaconda3\\python.exe -m pip install --upgrade pip' command.\n"
     ]
    }
   ],
   "source": [
    "!pip install pandas\n",
    "\n"
   ]
  },
  {
   "cell_type": "code",
   "execution_count": 3,
   "id": "9be47edc",
   "metadata": {},
   "outputs": [
    {
     "name": "stdout",
     "output_type": "stream",
     "text": [
      "   Person ID  Gender  Age     Occupation  Sleep Duration (hours)  \\\n",
      "0          1    Male   29   Manual Labor                     7.4   \n",
      "1          2  Female   43        Retired                     4.2   \n",
      "2          3    Male   44        Retired                     6.1   \n",
      "3          4    Male   29  Office Worker                     8.3   \n",
      "4          5    Male   67        Retired                     9.1   \n",
      "\n",
      "   Quality of Sleep (scale: 1-10)  Physical Activity Level (minutes/day)  \\\n",
      "0                             7.0                                     41   \n",
      "1                             4.9                                     41   \n",
      "2                             6.0                                    107   \n",
      "3                            10.0                                     20   \n",
      "4                             9.5                                     19   \n",
      "\n",
      "   Stress Level (scale: 1-10) BMI Category  \\\n",
      "0                           7        Obese   \n",
      "1                           5        Obese   \n",
      "2                           4  Underweight   \n",
      "3                          10        Obese   \n",
      "4                           4   Overweight   \n",
      "\n",
      "  Blood Pressure (systolic/diastolic)  Heart Rate (bpm)  Daily Steps  \\\n",
      "0                              124/70                91         8539   \n",
      "1                              131/86                81        18754   \n",
      "2                              122/70                81         2857   \n",
      "3                              124/72                55         6886   \n",
      "4                              133/78                97        14945   \n",
      "\n",
      "  Sleep Disorder  \n",
      "0           None  \n",
      "1           None  \n",
      "2           None  \n",
      "3           None  \n",
      "4       Insomnia  \n",
      "['None' 'Insomnia' 'Sleep Apnea']\n"
     ]
    }
   ],
   "source": [
    "import pandas as pd\n",
    "import os\n",
    "\n",
    "df = pd.read_csv(path+\"/sleep_health_lifestyle_dataset.csv\")\n",
    "\n",
    "print(df.head())\n",
    "\n",
    "print(df[\"Sleep Disorder\"].unique())"
   ]
  },
  {
   "cell_type": "markdown",
   "id": "59371b10",
   "metadata": {},
   "source": [
    "We then are going to visualise the different points to see the spread of the values"
   ]
  },
  {
   "cell_type": "code",
   "execution_count": 4,
   "id": "e8bd1f5e",
   "metadata": {},
   "outputs": [
    {
     "name": "stdout",
     "output_type": "stream",
     "text": [
      "Requirement already satisfied: matplotlib in c:\\users\\benda\\anaconda3\\lib\\site-packages (3.5.3)\n",
      "Requirement already satisfied: kiwisolver>=1.0.1 in c:\\users\\benda\\anaconda3\\lib\\site-packages (from matplotlib) (1.4.2)\n",
      "Requirement already satisfied: pyparsing>=2.2.1 in c:\\users\\benda\\anaconda3\\lib\\site-packages (from matplotlib) (3.0.9)\n",
      "Requirement already satisfied: fonttools>=4.22.0 in c:\\users\\benda\\anaconda3\\lib\\site-packages (from matplotlib) (4.25.0)\n",
      "Requirement already satisfied: pillow>=6.2.0 in c:\\users\\benda\\anaconda3\\lib\\site-packages (from matplotlib) (9.3.0)\n",
      "Requirement already satisfied: packaging>=20.0 in c:\\users\\benda\\anaconda3\\lib\\site-packages (from matplotlib) (22.0)\n",
      "Requirement already satisfied: python-dateutil>=2.7 in c:\\users\\benda\\anaconda3\\lib\\site-packages (from matplotlib) (2.8.2)\n",
      "Requirement already satisfied: cycler>=0.10 in c:\\users\\benda\\anaconda3\\lib\\site-packages (from matplotlib) (0.11.0)\n",
      "Requirement already satisfied: numpy>=1.17 in c:\\users\\benda\\anaconda3\\lib\\site-packages (from matplotlib) (1.21.5)\n",
      "Requirement already satisfied: typing-extensions; python_version < \"3.8\" in c:\\users\\benda\\anaconda3\\lib\\site-packages (from kiwisolver>=1.0.1->matplotlib) (4.4.0)\n",
      "Requirement already satisfied: six>=1.5 in c:\\users\\benda\\anaconda3\\lib\\site-packages (from python-dateutil>=2.7->matplotlib) (1.16.0)\n"
     ]
    },
    {
     "name": "stderr",
     "output_type": "stream",
     "text": [
      "WARNING: You are using pip version 20.2.2; however, version 24.0 is available.\n",
      "You should consider upgrading via the 'c:\\users\\benda\\anaconda3\\python.exe -m pip install --upgrade pip' command.\n",
      "UsageError: unrecognized arguments: # keeps it within the notebook\n"
     ]
    }
   ],
   "source": [
    "!pip install matplotlib\n",
    "%matplotlib inline # keeps it within the notebook"
   ]
  },
  {
   "cell_type": "code",
   "execution_count": 5,
   "id": "8660449a",
   "metadata": {},
   "outputs": [
    {
     "name": "stderr",
     "output_type": "stream",
     "text": [
      "\n",
      "Bad key text.latex.preview in file C:\\Users\\benda\\Anaconda3\\lib\\site-packages\\matplotlib\\mpl-data\\stylelib\\_classic_test.mplstyle, line 123 ('text.latex.preview : False')\n",
      "You probably need to get an updated matplotlibrc file from\n",
      "https://github.com/matplotlib/matplotlib/blob/v3.5.3/matplotlibrc.template\n",
      "or from the matplotlib source distribution\n",
      "\n",
      "Bad key mathtext.fallback_to_cm in file C:\\Users\\benda\\Anaconda3\\lib\\site-packages\\matplotlib\\mpl-data\\stylelib\\_classic_test.mplstyle, line 155 ('mathtext.fallback_to_cm : True  # When True, use symbols from the Computer Modern')\n",
      "You probably need to get an updated matplotlibrc file from\n",
      "https://github.com/matplotlib/matplotlib/blob/v3.5.3/matplotlibrc.template\n",
      "or from the matplotlib source distribution\n",
      "\n",
      "Bad key savefig.jpeg_quality in file C:\\Users\\benda\\Anaconda3\\lib\\site-packages\\matplotlib\\mpl-data\\stylelib\\_classic_test.mplstyle, line 418 ('savefig.jpeg_quality: 95       # when a jpeg is saved, the default quality parameter.')\n",
      "You probably need to get an updated matplotlibrc file from\n",
      "https://github.com/matplotlib/matplotlib/blob/v3.5.3/matplotlibrc.template\n",
      "or from the matplotlib source distribution\n",
      "\n",
      "Bad key keymap.all_axes in file C:\\Users\\benda\\Anaconda3\\lib\\site-packages\\matplotlib\\mpl-data\\stylelib\\_classic_test.mplstyle, line 466 ('keymap.all_axes : a                 # enable all axes')\n",
      "You probably need to get an updated matplotlibrc file from\n",
      "https://github.com/matplotlib/matplotlib/blob/v3.5.3/matplotlibrc.template\n",
      "or from the matplotlib source distribution\n",
      "\n",
      "Bad key animation.avconv_path in file C:\\Users\\benda\\Anaconda3\\lib\\site-packages\\matplotlib\\mpl-data\\stylelib\\_classic_test.mplstyle, line 477 ('animation.avconv_path: avconv     # Path to avconv binary. Without full path')\n",
      "You probably need to get an updated matplotlibrc file from\n",
      "https://github.com/matplotlib/matplotlib/blob/v3.5.3/matplotlibrc.template\n",
      "or from the matplotlib source distribution\n",
      "\n",
      "Bad key animation.avconv_args in file C:\\Users\\benda\\Anaconda3\\lib\\site-packages\\matplotlib\\mpl-data\\stylelib\\_classic_test.mplstyle, line 479 ('animation.avconv_args:            # Additional arguments to pass to avconv')\n",
      "You probably need to get an updated matplotlibrc file from\n",
      "https://github.com/matplotlib/matplotlib/blob/v3.5.3/matplotlibrc.template\n",
      "or from the matplotlib source distribution\n"
     ]
    }
   ],
   "source": [
    "from matplotlib import pyplot as plt"
   ]
  },
  {
   "cell_type": "code",
   "execution_count": 6,
   "id": "65aebac0",
   "metadata": {},
   "outputs": [
    {
     "name": "stdout",
     "output_type": "stream",
     "text": [
      "Counter({'Student': 110, 'Office Worker': 99, 'Manual Labor': 96, 'Retired': 95})\n"
     ]
    },
    {
     "data": {
      "text/plain": [
       "Text(0.5, 1.0, 'BMI Category vs Number of people')"
      ]
     },
     "execution_count": 6,
     "metadata": {},
     "output_type": "execute_result"
    },
    {
     "data": {
      "image/png": "[encoded data removed]",
      "text/plain": [
       "<Figure size 1000x800 with 4 Axes>"
      ]
     },
     "metadata": {},
     "output_type": "display_data"
    }
   ],
   "source": [
    "import matplotlib.pyplot as plt\n",
    "import numpy as np\n",
    "\n",
    "from collections import Counter\n",
    "import numpy as np\n",
    "\n",
    "data = Counter(df[\"Occupation\"]) \n",
    "\n",
    "y =Counter(data)\n",
    "print(y)\n",
    "labels = y.keys()\n",
    "sizes = y.values()\n",
    "\n",
    "fig, axes = plt.subplots(nrows=2, ncols=2, figsize=(10, 8))\n",
    "axes[0, 0].pie(sizes, labels=labels,autopct='%1.1f%%')\n",
    "\n",
    "data = df[\"Age\"]\n",
    "axes[0,1].hist(data)\n",
    "axes[0,1].set_xlabel(\"Age\")\n",
    "axes[0,1].set_ylabel(\"Number of people\")\n",
    "\n",
    "data = df[\"Heart Rate (bpm)\"]\n",
    "axes[1,0].boxplot(data)\n",
    "axes[1,0].set_ylabel(\"BPM\")\n",
    "\n",
    "data = df[\"BMI Category\"]\n",
    "y =Counter(data)\n",
    "y_pos = np.arange(len(y.keys()))\n",
    "axes[1,1].barh(y_pos, y.values(), align='center')\n",
    "axes[1,1].set_yticks(y_pos, labels=y.keys())\n",
    "axes[1,1].invert_yaxis()  # labels read top-to-bottom\n",
    "axes[1,1].set_xlabel('Number of people')\n",
    "axes[1,1].set_title('BMI Category vs Number of people')"
   ]
  },
  {
   "cell_type": "markdown",
   "id": "2638c171",
   "metadata": {},
   "source": [
    "Now we want to get the distanct value for sleep disoders"
   ]
  },
  {
   "cell_type": "code",
   "execution_count": 7,
   "id": "f4821215",
   "metadata": {},
   "outputs": [
    {
     "name": "stdout",
     "output_type": "stream",
     "text": [
      "['None' 'Insomnia' 'Sleep Apnea']\n"
     ]
    }
   ],
   "source": [
    "a = df['Sleep Disorder'].unique()\n",
    "print(a)"
   ]
  },
  {
   "cell_type": "markdown",
   "id": "7459e1b8",
   "metadata": {},
   "source": [
    "Since there are less data for insomnia and sleep apnea, I am going to group them together"
   ]
  },
  {
   "cell_type": "code",
   "execution_count": 8,
   "id": "2c149d9f",
   "metadata": {},
   "outputs": [
    {
     "name": "stdout",
     "output_type": "stream",
     "text": [
      "['None' 'Disorder']\n"
     ]
    }
   ],
   "source": [
    "df = df.replace('Insomnia', 'Disorder')\n",
    "df = df.replace('Sleep Apnea', 'Disorder')\n",
    "a = df['Sleep Disorder'].unique()\n",
    "print(a)"
   ]
  },
  {
   "cell_type": "code",
   "execution_count": 9,
   "id": "9a5003cf",
   "metadata": {},
   "outputs": [
    {
     "name": "stdout",
     "output_type": "stream",
     "text": [
      "Counter({'None': 290, 'Disorder': 110})\n"
     ]
    }
   ],
   "source": [
    "from collections import Counter\n",
    "\n",
    "classes = df['Sleep Disorder'].tolist()\n",
    "\n",
    "class_counts = Counter(classes)\n",
    "print(class_counts)"
   ]
  },
  {
   "cell_type": "code",
   "execution_count": 30,
   "id": "b6a456b4",
   "metadata": {},
   "outputs": [
    {
     "name": "stdout",
     "output_type": "stream",
     "text": [
      "[290, 110]\n"
     ]
    },
    {
     "data": {
      "image/png": "[encoded data removed]",
      "text/plain": [
       "<Figure size 640x480 with 1 Axes>"
      ]
     },
     "metadata": {},
     "output_type": "display_data"
    }
   ],
   "source": [
    "fig, ax = plt.subplots()\n",
    "\n",
    "class_name = ['None', 'Disorder']\n",
    "\n",
    "class_value = [class_counts[\"None\"],class_counts[\"Disorder\"]]\n",
    "print(class_value)\n",
    "\n",
    "ax.bar(class_name,class_value)\n",
    "\n",
    "plt.show()"
   ]
  },
  {
   "cell_type": "markdown",
   "id": "5abf009a",
   "metadata": {},
   "source": [
    "Now we will try to implement classical machine learning to see if classifications can be made."
   ]
  },
  {
   "cell_type": "code",
   "execution_count": 11,
   "id": "e7c09fa7",
   "metadata": {},
   "outputs": [
    {
     "name": "stdout",
     "output_type": "stream",
     "text": [
      "Requirement already satisfied: scikit-learn in c:\\users\\benda\\anaconda3\\lib\\site-packages (1.0.2)\n",
      "Requirement already satisfied: scipy>=1.1.0 in c:\\users\\benda\\anaconda3\\lib\\site-packages (from scikit-learn) (1.7.3)\n",
      "Requirement already satisfied: numpy>=1.14.6 in c:\\users\\benda\\anaconda3\\lib\\site-packages (from scikit-learn) (1.21.5)\n",
      "Requirement already satisfied: joblib>=0.11 in c:\\users\\benda\\anaconda3\\lib\\site-packages (from scikit-learn) (1.1.1)\n",
      "Requirement already satisfied: threadpoolctl>=2.0.0 in c:\\users\\benda\\anaconda3\\lib\\site-packages (from scikit-learn) (2.2.0)\n"
     ]
    },
    {
     "name": "stderr",
     "output_type": "stream",
     "text": [
      "WARNING: You are using pip version 20.2.2; however, version 24.0 is available.\n",
      "You should consider upgrading via the 'c:\\users\\benda\\anaconda3\\python.exe -m pip install --upgrade pip' command.\n"
     ]
    },
    {
     "name": "stdout",
     "output_type": "stream",
     "text": [
      "Requirement already satisfied: numpy in c:\\users\\benda\\anaconda3\\lib\\site-packages (1.21.5)\n"
     ]
    },
    {
     "name": "stderr",
     "output_type": "stream",
     "text": [
      "WARNING: You are using pip version 20.2.2; however, version 24.0 is available.\n",
      "You should consider upgrading via the 'c:\\users\\benda\\anaconda3\\python.exe -m pip install --upgrade pip' command.\n"
     ]
    }
   ],
   "source": [
    "!pip install scikit-learn\n",
    "!pip install numpy\n"
   ]
  },
  {
   "cell_type": "code",
   "execution_count": 12,
   "id": "34310ced",
   "metadata": {},
   "outputs": [],
   "source": [
    "import numpy as np\n",
    "from sklearn.model_selection import train_test_split"
   ]
  },
  {
   "cell_type": "markdown",
   "id": "587ff6d2",
   "metadata": {},
   "source": [
    "We first need to map the text value with numerical value before training a model"
   ]
  },
  {
   "cell_type": "code",
   "execution_count": 13,
   "id": "a814dc4a",
   "metadata": {},
   "outputs": [],
   "source": [
    "mapping_heading = [\"Gender\",\"Occupation\", \"BMI Category\", \"Blood Pressure (systolic/diastolic)\", \"Sleep Disorder\"]\n",
    "for heading in mapping_heading:\n",
    "    mapping = {item:i for i, item in enumerate(df[heading].unique())}\n",
    "    df[heading] = df[heading].apply(lambda x: mapping[x])"
   ]
  },
  {
   "cell_type": "code",
   "execution_count": 14,
   "id": "b08924da",
   "metadata": {},
   "outputs": [],
   "source": [
    "train, test = train_test_split(df, test_size=0.2)"
   ]
  },
  {
   "cell_type": "code",
   "execution_count": 15,
   "id": "03925e54",
   "metadata": {},
   "outputs": [],
   "source": [
    "x_train, y_train = train.iloc[:, 1:-1], train.iloc[:,-1]\n",
    "x_test, y_test = test.iloc[:, 1:-1], test.iloc[:,-1]"
   ]
  },
  {
   "cell_type": "code",
   "execution_count": 16,
   "id": "cf667475",
   "metadata": {},
   "outputs": [
    {
     "data": {
      "text/html": [
       "<div>\n",
       "<style scoped>\n",
       "    .dataframe tbody tr th:only-of-type {\n",
       "        vertical-align: middle;\n",
       "    }\n",
       "\n",
       "    .dataframe tbody tr th {\n",
       "        vertical-align: top;\n",
       "    }\n",
       "\n",
       "    .dataframe thead th {\n",
       "        text-align: right;\n",
       "    }\n",
       "</style>\n",
       "<table border=\"1\" class=\"dataframe\">\n",
       "  <thead>\n",
       "    <tr style=\"text-align: right;\">\n",
       "      <th></th>\n",
       "      <th>Gender</th>\n",
       "      <th>Age</th>\n",
       "      <th>Occupation</th>\n",
       "      <th>Sleep Duration (hours)</th>\n",
       "      <th>Quality of Sleep (scale: 1-10)</th>\n",
       "      <th>Physical Activity Level (minutes/day)</th>\n",
       "      <th>Stress Level (scale: 1-10)</th>\n",
       "      <th>BMI Category</th>\n",
       "      <th>Blood Pressure (systolic/diastolic)</th>\n",
       "      <th>Heart Rate (bpm)</th>\n",
       "      <th>Daily Steps</th>\n",
       "    </tr>\n",
       "  </thead>\n",
       "  <tbody>\n",
       "    <tr>\n",
       "      <th>189</th>\n",
       "      <td>1</td>\n",
       "      <td>43</td>\n",
       "      <td>2</td>\n",
       "      <td>8.3</td>\n",
       "      <td>9.5</td>\n",
       "      <td>111</td>\n",
       "      <td>4</td>\n",
       "      <td>3</td>\n",
       "      <td>44</td>\n",
       "      <td>89</td>\n",
       "      <td>6134</td>\n",
       "    </tr>\n",
       "    <tr>\n",
       "      <th>315</th>\n",
       "      <td>1</td>\n",
       "      <td>51</td>\n",
       "      <td>3</td>\n",
       "      <td>5.5</td>\n",
       "      <td>5.3</td>\n",
       "      <td>24</td>\n",
       "      <td>8</td>\n",
       "      <td>3</td>\n",
       "      <td>219</td>\n",
       "      <td>94</td>\n",
       "      <td>7592</td>\n",
       "    </tr>\n",
       "    <tr>\n",
       "      <th>376</th>\n",
       "      <td>1</td>\n",
       "      <td>43</td>\n",
       "      <td>2</td>\n",
       "      <td>4.3</td>\n",
       "      <td>3.3</td>\n",
       "      <td>11</td>\n",
       "      <td>9</td>\n",
       "      <td>1</td>\n",
       "      <td>242</td>\n",
       "      <td>86</td>\n",
       "      <td>16519</td>\n",
       "    </tr>\n",
       "    <tr>\n",
       "      <th>178</th>\n",
       "      <td>0</td>\n",
       "      <td>39</td>\n",
       "      <td>2</td>\n",
       "      <td>11.1</td>\n",
       "      <td>6.4</td>\n",
       "      <td>28</td>\n",
       "      <td>3</td>\n",
       "      <td>2</td>\n",
       "      <td>145</td>\n",
       "      <td>96</td>\n",
       "      <td>15070</td>\n",
       "    </tr>\n",
       "    <tr>\n",
       "      <th>398</th>\n",
       "      <td>1</td>\n",
       "      <td>41</td>\n",
       "      <td>1</td>\n",
       "      <td>11.0</td>\n",
       "      <td>9.1</td>\n",
       "      <td>73</td>\n",
       "      <td>9</td>\n",
       "      <td>0</td>\n",
       "      <td>248</td>\n",
       "      <td>75</td>\n",
       "      <td>6567</td>\n",
       "    </tr>\n",
       "    <tr>\n",
       "      <th>...</th>\n",
       "      <td>...</td>\n",
       "      <td>...</td>\n",
       "      <td>...</td>\n",
       "      <td>...</td>\n",
       "      <td>...</td>\n",
       "      <td>...</td>\n",
       "      <td>...</td>\n",
       "      <td>...</td>\n",
       "      <td>...</td>\n",
       "      <td>...</td>\n",
       "      <td>...</td>\n",
       "    </tr>\n",
       "    <tr>\n",
       "      <th>220</th>\n",
       "      <td>0</td>\n",
       "      <td>61</td>\n",
       "      <td>3</td>\n",
       "      <td>6.1</td>\n",
       "      <td>5.2</td>\n",
       "      <td>112</td>\n",
       "      <td>4</td>\n",
       "      <td>3</td>\n",
       "      <td>102</td>\n",
       "      <td>77</td>\n",
       "      <td>12345</td>\n",
       "    </tr>\n",
       "    <tr>\n",
       "      <th>150</th>\n",
       "      <td>0</td>\n",
       "      <td>51</td>\n",
       "      <td>1</td>\n",
       "      <td>11.9</td>\n",
       "      <td>7.5</td>\n",
       "      <td>83</td>\n",
       "      <td>1</td>\n",
       "      <td>1</td>\n",
       "      <td>123</td>\n",
       "      <td>91</td>\n",
       "      <td>19359</td>\n",
       "    </tr>\n",
       "    <tr>\n",
       "      <th>292</th>\n",
       "      <td>0</td>\n",
       "      <td>20</td>\n",
       "      <td>1</td>\n",
       "      <td>4.7</td>\n",
       "      <td>8.8</td>\n",
       "      <td>63</td>\n",
       "      <td>5</td>\n",
       "      <td>1</td>\n",
       "      <td>40</td>\n",
       "      <td>90</td>\n",
       "      <td>4985</td>\n",
       "    </tr>\n",
       "    <tr>\n",
       "      <th>286</th>\n",
       "      <td>0</td>\n",
       "      <td>18</td>\n",
       "      <td>2</td>\n",
       "      <td>7.4</td>\n",
       "      <td>6.1</td>\n",
       "      <td>64</td>\n",
       "      <td>1</td>\n",
       "      <td>1</td>\n",
       "      <td>65</td>\n",
       "      <td>56</td>\n",
       "      <td>6820</td>\n",
       "    </tr>\n",
       "    <tr>\n",
       "      <th>227</th>\n",
       "      <td>1</td>\n",
       "      <td>27</td>\n",
       "      <td>2</td>\n",
       "      <td>10.7</td>\n",
       "      <td>4.5</td>\n",
       "      <td>59</td>\n",
       "      <td>4</td>\n",
       "      <td>2</td>\n",
       "      <td>11</td>\n",
       "      <td>82</td>\n",
       "      <td>10080</td>\n",
       "    </tr>\n",
       "  </tbody>\n",
       "</table>\n",
       "<p>320 rows × 11 columns</p>\n",
       "</div>"
      ],
      "text/plain": [
       "     Gender  Age  Occupation  Sleep Duration (hours)  \\\n",
       "189       1   43           2                     8.3   \n",
       "315       1   51           3                     5.5   \n",
       "376       1   43           2                     4.3   \n",
       "178       0   39           2                    11.1   \n",
       "398       1   41           1                    11.0   \n",
       "..      ...  ...         ...                     ...   \n",
       "220       0   61           3                     6.1   \n",
       "150       0   51           1                    11.9   \n",
       "292       0   20           1                     4.7   \n",
       "286       0   18           2                     7.4   \n",
       "227       1   27           2                    10.7   \n",
       "\n",
       "     Quality of Sleep (scale: 1-10)  Physical Activity Level (minutes/day)  \\\n",
       "189                             9.5                                    111   \n",
       "315                             5.3                                     24   \n",
       "376                             3.3                                     11   \n",
       "178                             6.4                                     28   \n",
       "398                             9.1                                     73   \n",
       "..                              ...                                    ...   \n",
       "220                             5.2                                    112   \n",
       "150                             7.5                                     83   \n",
       "292                             8.8                                     63   \n",
       "286                             6.1                                     64   \n",
       "227                             4.5                                     59   \n",
       "\n",
       "     Stress Level (scale: 1-10)  BMI Category  \\\n",
       "189                           4             3   \n",
       "315                           8             3   \n",
       "376                           9             1   \n",
       "178                           3             2   \n",
       "398                           9             0   \n",
       "..                          ...           ...   \n",
       "220                           4             3   \n",
       "150                           1             1   \n",
       "292                           5             1   \n",
       "286                           1             1   \n",
       "227                           4             2   \n",
       "\n",
       "     Blood Pressure (systolic/diastolic)  Heart Rate (bpm)  Daily Steps  \n",
       "189                                   44                89         6134  \n",
       "315                                  219                94         7592  \n",
       "376                                  242                86        16519  \n",
       "178                                  145                96        15070  \n",
       "398                                  248                75         6567  \n",
       "..                                   ...               ...          ...  \n",
       "220                                  102                77        12345  \n",
       "150                                  123                91        19359  \n",
       "292                                   40                90         4985  \n",
       "286                                   65                56         6820  \n",
       "227                                   11                82        10080  \n",
       "\n",
       "[320 rows x 11 columns]"
      ]
     },
     "execution_count": 16,
     "metadata": {},
     "output_type": "execute_result"
    }
   ],
   "source": [
    "x_train"
   ]
  },
  {
   "cell_type": "code",
   "execution_count": 17,
   "id": "de416017",
   "metadata": {},
   "outputs": [
    {
     "data": {
      "text/plain": [
       "189    0\n",
       "315    0\n",
       "376    1\n",
       "178    0\n",
       "398    1\n",
       "      ..\n",
       "220    1\n",
       "150    0\n",
       "292    0\n",
       "286    0\n",
       "227    1\n",
       "Name: Sleep Disorder, Length: 320, dtype: int64"
      ]
     },
     "execution_count": 17,
     "metadata": {},
     "output_type": "execute_result"
    }
   ],
   "source": [
    "y_train"
   ]
  },
  {
   "cell_type": "code",
   "execution_count": 18,
   "id": "eef2bb9e",
   "metadata": {},
   "outputs": [],
   "source": [
    "from sklearn.naive_bayes import GaussianNB"
   ]
  },
  {
   "cell_type": "code",
   "execution_count": 19,
   "id": "972c1f01",
   "metadata": {},
   "outputs": [],
   "source": [
    "gnb = GaussianNB()"
   ]
  },
  {
   "cell_type": "code",
   "execution_count": 20,
   "id": "6a1d9302",
   "metadata": {},
   "outputs": [],
   "source": [
    "y_pred = gnb.fit(x_train, y_train).predict(x_test)"
   ]
  },
  {
   "cell_type": "code",
   "execution_count": 21,
   "id": "0896fb63",
   "metadata": {},
   "outputs": [
    {
     "name": "stdout",
     "output_type": "stream",
     "text": [
      "Number of mislabeled points out of a total 80 points : 22\n"
     ]
    }
   ],
   "source": [
    "print(\"Number of mislabeled points out of a total %d points : %d\" % \n",
    "      (x_test.shape[0], (y_test != y_pred).sum()))"
   ]
  },
  {
   "cell_type": "code",
   "execution_count": 22,
   "id": "7bf5d7d8",
   "metadata": {},
   "outputs": [],
   "source": [
    "from sklearn.metrics import f1_score"
   ]
  },
  {
   "cell_type": "code",
   "execution_count": 23,
   "id": "a2550621",
   "metadata": {},
   "outputs": [
    {
     "name": "stdout",
     "output_type": "stream",
     "text": [
      "[0.83823529 0.08333333]\n",
      "0.7250000000000001\n",
      "0.4607843137254902\n",
      "0.6212009803921569\n"
     ]
    }
   ],
   "source": [
    "# Calculate F1 score for each class separately\n",
    "f1_per_class = f1_score(y_test, y_pred, average=None)\n",
    "\n",
    "# Calculate micro-average F1 score\n",
    "f1_micro = f1_score(y_test, y_pred, average='micro')\n",
    "\n",
    "# Calculate macro-average F1 score\n",
    "f1_macro = f1_score(y_test, y_pred, average='macro')\n",
    "\n",
    "# Calculate weighted-average F1 score\n",
    "f1_weighted = f1_score(y_test, y_pred, average='weighted')\n",
    "\n",
    "print(f1_per_class)\n",
    "print(f1_micro)\n",
    "print(f1_macro)\n",
    "print(f1_weighted)"
   ]
  },
  {
   "cell_type": "markdown",
   "id": "a0f01a28",
   "metadata": {},
   "source": [
    "I am going to use SVM to see if we can obtain better result as SVM work for high dimensions"
   ]
  },
  {
   "cell_type": "code",
   "execution_count": 36,
   "id": "c1c9d2e6",
   "metadata": {},
   "outputs": [
    {
     "name": "stdout",
     "output_type": "stream",
     "text": [
      "Cross Validation Scores:  [0.75       0.675      0.68333333 0.71666667 0.775     ]\n",
      "Average CV Score:  0.72\n",
      "Number of CV Scores used in Average:  5\n"
     ]
    }
   ],
   "source": [
    "from sklearn.svm import SVC\n",
    "from sklearn.metrics import confusion_matrix\n",
    "from sklearn.model_selection import StratifiedKFold, cross_val_score, KFold, LeaveOneOut, ShuffleSplit\n",
    "\n",
    "#Build the model\n",
    "svm = SVC()\n",
    "# # Trained the model\n",
    "# svm.fit(x_train, y_train)\n",
    "\n",
    "X, y = df.iloc[:, 1:-1], df.iloc[:,-1]\n",
    "\n",
    "# y_pred = svm.predict(x_test)\n",
    "\n",
    "sk_folds = KFold(n_splits = 5)\n",
    "\n",
    "loo = LeaveOneOut()\n",
    "\n",
    "ss = ShuffleSplit(train_size=0.6, test_size=0.3, n_splits = 5)\n",
    "\n",
    "scores = cross_val_score(svm, X, y, cv = ss)\n",
    "\n",
    "print(\"Cross Validation Scores: \", scores)\n",
    "print(\"Average CV Score: \", scores.mean())\n",
    "print(\"Number of CV Scores used in Average: \", len(scores))\n",
    "\n"
   ]
  },
  {
   "cell_type": "code",
   "execution_count": 25,
   "id": "861de2fa",
   "metadata": {},
   "outputs": [
    {
     "name": "stdout",
     "output_type": "stream",
     "text": [
      "[0.83211679 0.        ]\n",
      "0.7125\n",
      "0.416058394160584\n",
      "0.5928832116788322\n"
     ]
    }
   ],
   "source": [
    "# Calculate F1 score for each class separately\n",
    "f1_per_class = f1_score(y_test, y_pred, average=None)\n",
    "\n",
    "# Calculate micro-average F1 score\n",
    "f1_micro = f1_score(y_test, y_pred, average='micro')\n",
    "\n",
    "# Calculate macro-average F1 score\n",
    "f1_macro = f1_score(y_test, y_pred, average='macro')\n",
    "\n",
    "# Calculate weighted-average F1 score\n",
    "f1_weighted = f1_score(y_test, y_pred, average='weighted')\n",
    "\n",
    "print(f1_per_class)\n",
    "print(f1_micro)\n",
    "print(f1_macro)\n",
    "print(f1_weighted)"
   ]
  },
  {
   "cell_type": "code",
   "execution_count": 26,
   "id": "33f4be9d",
   "metadata": {},
   "outputs": [],
   "source": [
    "import seaborn as sns\n",
    "import matplotlib.pyplot as plt\n",
    "from sklearn.metrics import confusion_matrix\n",
    "\n"
   ]
  },
  {
   "cell_type": "code",
   "execution_count": 27,
   "id": "67bb97f6",
   "metadata": {},
   "outputs": [
    {
     "data": {
      "image/png": "[encoded data removed]",
      "text/plain": [
       "<Figure size 500x400 with 2 Axes>"
      ]
     },
     "metadata": {},
     "output_type": "display_data"
    }
   ],
   "source": [
    "# Creating  a confusion matrix,which compares the y_test and y_pred\n",
    "cm = confusion_matrix(y_test, y_pred)\n",
    "\n",
    "# Creating a dataframe for a array-formatted Confusion matrix,so it will be easy for plotting.\n",
    "cm_df = pd.DataFrame(cm,\n",
    "                     index = ['None','Disorder'], \n",
    "                     columns = ['None','Disorder'])\n",
    "\n",
    "#Plotting the 3x3 confusion matrix\n",
    "plt.figure(figsize=(5,4))\n",
    "sns.heatmap(cm_df, annot=True)\n",
    "plt.title('Confusion Matrix')\n",
    "plt.ylabel('Actal Values')\n",
    "plt.xlabel('Predicted Values')\n",
    "plt.show()"
   ]
  },
  {
   "cell_type": "code",
   "execution_count": null,
   "id": "84747036",
   "metadata": {},
   "outputs": [],
   "source": []
  }
 ],
 "metadata": {
  "kernelspec": {
   "display_name": "Python 3 (ipykernel)",
   "language": "python",
   "name": "python3"
  },
  "language_info": {
   "codemirror_mode": {
    "name": "ipython",
    "version": 3
   },
   "file_extension": ".py",
   "mimetype": "text/x-python",
   "name": "python",
   "nbconvert_exporter": "python",
   "pygments_lexer": "ipython3",
   "version": "3.7.3"
  }
 },
 "nbformat": 4,
 "nbformat_minor": 5
}
