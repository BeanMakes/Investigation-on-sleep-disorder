{
 "cells": [
  {
   "cell_type": "markdown",
   "id": "f96af425",
   "metadata": {},
   "source": [
    "# Invesitgation on sleep disorders\n",
    "\n",
    "This project will use synthesis dataset from kaggle and investigate using traditional machine learning and data visulisation the cause of sleep disorders.\n"
   ]
  },
  {
   "cell_type": "markdown",
   "id": "f05cd4c4",
   "metadata": {},
   "source": [
    "## Importing the data from kaggle\n",
    "\n",
    "We will import the dataset directly onto our device and print the path of where it is installed."
   ]
  },
  {
   "cell_type": "code",
   "execution_count": 1,
   "id": "55e4e84c",
   "metadata": {},
   "outputs": [
    {
     "name": "stderr",
     "output_type": "stream",
     "text": [
      "WARNING: You are using pip version 20.2.2; however, version 24.0 is available.\n",
      "You should consider upgrading via the 'c:\\users\\benda\\anaconda3\\python.exe -m pip install --upgrade pip' command.\n"
     ]
    },
    {
     "name": "stdout",
     "output_type": "stream",
     "text": [
      "Requirement already satisfied: kagglehub in c:\\users\\benda\\anaconda3\\lib\\site-packages (0.2.9)\n",
      "Requirement already satisfied: packaging in c:\\users\\benda\\anaconda3\\lib\\site-packages (from kagglehub) (22.0)\n",
      "Requirement already satisfied: tqdm in c:\\users\\benda\\anaconda3\\lib\\site-packages (from kagglehub) (4.64.1)\n",
      "Requirement already satisfied: requests in c:\\users\\benda\\anaconda3\\lib\\site-packages (from kagglehub) (2.28.1)\n",
      "Requirement already satisfied: colorama; platform_system == \"Windows\" in c:\\users\\benda\\anaconda3\\lib\\site-packages (from tqdm->kagglehub) (0.4.5)\n",
      "Requirement already satisfied: certifi>=2017.4.17 in c:\\users\\benda\\anaconda3\\lib\\site-packages (from requests->kagglehub) (2022.12.7)\n",
      "Requirement already satisfied: idna<4,>=2.5 in c:\\users\\benda\\anaconda3\\lib\\site-packages (from requests->kagglehub) (3.4)\n",
      "Requirement already satisfied: charset-normalizer<3,>=2 in c:\\users\\benda\\anaconda3\\lib\\site-packages (from requests->kagglehub) (2.0.4)\n",
      "Requirement already satisfied: urllib3<1.27,>=1.21.1 in c:\\users\\benda\\anaconda3\\lib\\site-packages (from requests->kagglehub) (1.26.13)\n",
      "Warning: Looks like you're using an outdated `kagglehub` version, please consider updating (latest version: 0.3.6)\n",
      "Path to dataset files: C:\\Users\\benda\\.cache\\kagglehub\\datasets\\siamaktahmasbi\\insights-into-sleep-patterns-and-daily-habits\\versions\\1\n"
     ]
    }
   ],
   "source": [
    "!pip install kagglehub\n",
    "import kagglehub\n",
    "\n",
    "# Download latest version\n",
    "path = kagglehub.dataset_download(\"siamaktahmasbi/insights-into-sleep-patterns-and-daily-habits\")\n",
    "\n",
    "print(\"Path to dataset files:\", path)"
   ]
  },
  {
   "cell_type": "markdown",
   "id": "a8cf8697",
   "metadata": {},
   "source": [
    "Then we will visulise the head of the dataset using pandas,"
   ]
  },
  {
   "cell_type": "code",
   "execution_count": 2,
   "id": "2862a39a",
   "metadata": {},
   "outputs": [
    {
     "name": "stdout",
     "output_type": "stream",
     "text": [
      "Requirement already satisfied: pandas in c:\\users\\benda\\anaconda3\\lib\\site-packages (1.3.5)\n",
      "Requirement already satisfied: pytz>=2017.3 in c:\\users\\benda\\anaconda3\\lib\\site-packages (from pandas) (2022.7)\n",
      "Requirement already satisfied: python-dateutil>=2.7.3 in c:\\users\\benda\\anaconda3\\lib\\site-packages (from pandas) (2.8.2)\n",
      "Requirement already satisfied: numpy>=1.17.3; platform_machine != \"aarch64\" and platform_machine != \"arm64\" and python_version < \"3.10\" in c:\\users\\benda\\anaconda3\\lib\\site-packages (from pandas) (1.21.5)\n",
      "Requirement already satisfied: six>=1.5 in c:\\users\\benda\\anaconda3\\lib\\site-packages (from python-dateutil>=2.7.3->pandas) (1.16.0)\n"
     ]
    },
    {
     "name": "stderr",
     "output_type": "stream",
     "text": [
      "WARNING: You are using pip version 20.2.2; however, version 24.0 is available.\n",
      "You should consider upgrading via the 'c:\\users\\benda\\anaconda3\\python.exe -m pip install --upgrade pip' command.\n"
     ]
    }
   ],
   "source": [
    "!pip install pandas\n",
    "\n"
   ]
  },
  {
   "cell_type": "code",
   "execution_count": 3,
   "id": "9be47edc",
   "metadata": {},
   "outputs": [
    {
     "name": "stdout",
     "output_type": "stream",
     "text": [
      "   Person ID  Gender  Age     Occupation  Sleep Duration (hours)  \\\n",
      "0          1    Male   29   Manual Labor                     7.4   \n",
      "1          2  Female   43        Retired                     4.2   \n",
      "2          3    Male   44        Retired                     6.1   \n",
      "3          4    Male   29  Office Worker                     8.3   \n",
      "4          5    Male   67        Retired                     9.1   \n",
      "\n",
      "   Quality of Sleep (scale: 1-10)  Physical Activity Level (minutes/day)  \\\n",
      "0                             7.0                                     41   \n",
      "1                             4.9                                     41   \n",
      "2                             6.0                                    107   \n",
      "3                            10.0                                     20   \n",
      "4                             9.5                                     19   \n",
      "\n",
      "   Stress Level (scale: 1-10) BMI Category  \\\n",
      "0                           7        Obese   \n",
      "1                           5        Obese   \n",
      "2                           4  Underweight   \n",
      "3                          10        Obese   \n",
      "4                           4   Overweight   \n",
      "\n",
      "  Blood Pressure (systolic/diastolic)  Heart Rate (bpm)  Daily Steps  \\\n",
      "0                              124/70                91         8539   \n",
      "1                              131/86                81        18754   \n",
      "2                              122/70                81         2857   \n",
      "3                              124/72                55         6886   \n",
      "4                              133/78                97        14945   \n",
      "\n",
      "  Sleep Disorder  \n",
      "0           None  \n",
      "1           None  \n",
      "2           None  \n",
      "3           None  \n",
      "4       Insomnia  \n"
     ]
    }
   ],
   "source": [
    "import pandas as pd\n",
    "import os\n",
    "\n",
    "df = pd.read_csv(path+\"/sleep_health_lifestyle_dataset.csv\")\n",
    "\n",
    "print(df.head())"
   ]
  },
  {
   "cell_type": "markdown",
   "id": "59371b10",
   "metadata": {},
   "source": [
    "We then are going to visualise the different points to see the spread of the values"
   ]
  },
  {
   "cell_type": "code",
   "execution_count": 4,
   "id": "e8bd1f5e",
   "metadata": {},
   "outputs": [
    {
     "name": "stdout",
     "output_type": "stream",
     "text": [
      "Requirement already satisfied: matplotlib in c:\\users\\benda\\anaconda3\\lib\\site-packages (3.5.3)\n",
      "Requirement already satisfied: numpy>=1.17 in c:\\users\\benda\\anaconda3\\lib\\site-packages (from matplotlib) (1.21.5)\n",
      "Requirement already satisfied: kiwisolver>=1.0.1 in c:\\users\\benda\\anaconda3\\lib\\site-packages (from matplotlib) (1.4.2)\n",
      "Requirement already satisfied: python-dateutil>=2.7 in c:\\users\\benda\\anaconda3\\lib\\site-packages (from matplotlib) (2.8.2)\n",
      "Requirement already satisfied: fonttools>=4.22.0 in c:\\users\\benda\\anaconda3\\lib\\site-packages (from matplotlib) (4.25.0)\n",
      "Requirement already satisfied: cycler>=0.10 in c:\\users\\benda\\anaconda3\\lib\\site-packages (from matplotlib) (0.11.0)\n",
      "Requirement already satisfied: pyparsing>=2.2.1 in c:\\users\\benda\\anaconda3\\lib\\site-packages (from matplotlib) (3.0.9)\n",
      "Requirement already satisfied: pillow>=6.2.0 in c:\\users\\benda\\anaconda3\\lib\\site-packages (from matplotlib) (9.3.0)\n",
      "Requirement already satisfied: packaging>=20.0 in c:\\users\\benda\\anaconda3\\lib\\site-packages (from matplotlib) (22.0)\n",
      "Requirement already satisfied: typing-extensions; python_version < \"3.8\" in c:\\users\\benda\\anaconda3\\lib\\site-packages (from kiwisolver>=1.0.1->matplotlib) (4.4.0)\n",
      "Requirement already satisfied: six>=1.5 in c:\\users\\benda\\anaconda3\\lib\\site-packages (from python-dateutil>=2.7->matplotlib) (1.16.0)\n"
     ]
    },
    {
     "name": "stderr",
     "output_type": "stream",
     "text": [
      "WARNING: You are using pip version 20.2.2; however, version 24.0 is available.\n",
      "You should consider upgrading via the 'c:\\users\\benda\\anaconda3\\python.exe -m pip install --upgrade pip' command.\n",
      "UsageError: unrecognized arguments: # keeps it within the notebook\n"
     ]
    }
   ],
   "source": [
    "!pip install matplotlib\n",
    "%matplotlib inline # keeps it within the notebook"
   ]
  },
  {
   "cell_type": "code",
   "execution_count": 5,
   "id": "8660449a",
   "metadata": {},
   "outputs": [
    {
     "name": "stderr",
     "output_type": "stream",
     "text": [
      "\n",
      "Bad key text.latex.preview in file C:\\Users\\benda\\Anaconda3\\lib\\site-packages\\matplotlib\\mpl-data\\stylelib\\_classic_test.mplstyle, line 123 ('text.latex.preview : False')\n",
      "You probably need to get an updated matplotlibrc file from\n",
      "https://github.com/matplotlib/matplotlib/blob/v3.5.3/matplotlibrc.template\n",
      "or from the matplotlib source distribution\n",
      "\n",
      "Bad key mathtext.fallback_to_cm in file C:\\Users\\benda\\Anaconda3\\lib\\site-packages\\matplotlib\\mpl-data\\stylelib\\_classic_test.mplstyle, line 155 ('mathtext.fallback_to_cm : True  # When True, use symbols from the Computer Modern')\n",
      "You probably need to get an updated matplotlibrc file from\n",
      "https://github.com/matplotlib/matplotlib/blob/v3.5.3/matplotlibrc.template\n",
      "or from the matplotlib source distribution\n",
      "\n",
      "Bad key savefig.jpeg_quality in file C:\\Users\\benda\\Anaconda3\\lib\\site-packages\\matplotlib\\mpl-data\\stylelib\\_classic_test.mplstyle, line 418 ('savefig.jpeg_quality: 95       # when a jpeg is saved, the default quality parameter.')\n",
      "You probably need to get an updated matplotlibrc file from\n",
      "https://github.com/matplotlib/matplotlib/blob/v3.5.3/matplotlibrc.template\n",
      "or from the matplotlib source distribution\n",
      "\n",
      "Bad key keymap.all_axes in file C:\\Users\\benda\\Anaconda3\\lib\\site-packages\\matplotlib\\mpl-data\\stylelib\\_classic_test.mplstyle, line 466 ('keymap.all_axes : a                 # enable all axes')\n",
      "You probably need to get an updated matplotlibrc file from\n",
      "https://github.com/matplotlib/matplotlib/blob/v3.5.3/matplotlibrc.template\n",
      "or from the matplotlib source distribution\n",
      "\n",
      "Bad key animation.avconv_path in file C:\\Users\\benda\\Anaconda3\\lib\\site-packages\\matplotlib\\mpl-data\\stylelib\\_classic_test.mplstyle, line 477 ('animation.avconv_path: avconv     # Path to avconv binary. Without full path')\n",
      "You probably need to get an updated matplotlibrc file from\n",
      "https://github.com/matplotlib/matplotlib/blob/v3.5.3/matplotlibrc.template\n",
      "or from the matplotlib source distribution\n",
      "\n",
      "Bad key animation.avconv_args in file C:\\Users\\benda\\Anaconda3\\lib\\site-packages\\matplotlib\\mpl-data\\stylelib\\_classic_test.mplstyle, line 479 ('animation.avconv_args:            # Additional arguments to pass to avconv')\n",
      "You probably need to get an updated matplotlibrc file from\n",
      "https://github.com/matplotlib/matplotlib/blob/v3.5.3/matplotlibrc.template\n",
      "or from the matplotlib source distribution\n"
     ]
    }
   ],
   "source": [
    "from matplotlib import pyplot as plt"
   ]
  },
  {
   "cell_type": "code",
   "execution_count": 6,
   "id": "65aebac0",
   "metadata": {},
   "outputs": [
    {
     "name": "stdout",
     "output_type": "stream",
     "text": [
      "Counter({'Student': 110, 'Office Worker': 99, 'Manual Labor': 96, 'Retired': 95})\n"
     ]
    },
    {
     "data": {
      "text/plain": [
       "Text(0.5, 1.0, 'BMI Category vs Number of people')"
      ]
     },
     "execution_count": 6,
     "metadata": {},
     "output_type": "execute_result"
    },
    {
     "data": {
      "image/png": "[encoded data removed]",
      "text/plain": [
       "<Figure size 1000x800 with 4 Axes>"
      ]
     },
     "metadata": {},
     "output_type": "display_data"
    }
   ],
   "source": [
    "import matplotlib.pyplot as plt\n",
    "import numpy as np\n",
    "\n",
    "from collections import Counter\n",
    "import numpy as np\n",
    "\n",
    "data = Counter(df[\"Occupation\"]) \n",
    "\n",
    "y =Counter(data)\n",
    "print(y)\n",
    "labels = y.keys()\n",
    "sizes = y.values()\n",
    "\n",
    "fig, axes = plt.subplots(nrows=2, ncols=2, figsize=(10, 8))\n",
    "axes[0, 0].pie(sizes, labels=labels,autopct='%1.1f%%')\n",
    "\n",
    "data = df[\"Age\"]\n",
    "axes[0,1].hist(data)\n",
    "axes[0,1].set_xlabel(\"Age\")\n",
    "axes[0,1].set_ylabel(\"Number of people\")\n",
    "\n",
    "data = df[\"Heart Rate (bpm)\"]\n",
    "axes[1,0].boxplot(data)\n",
    "axes[1,0].set_ylabel(\"BPM\")\n",
    "\n",
    "data = df[\"BMI Category\"]\n",
    "y =Counter(data)\n",
    "y_pos = np.arange(len(y.keys()))\n",
    "axes[1,1].barh(y_pos, y.values(), align='center')\n",
    "axes[1,1].set_yticks(y_pos, labels=y.keys())\n",
    "axes[1,1].invert_yaxis()  # labels read top-to-bottom\n",
    "axes[1,1].set_xlabel('Number of people')\n",
    "axes[1,1].set_title('BMI Category vs Number of people')"
   ]
  },
  {
   "cell_type": "markdown",
   "id": "2638c171",
   "metadata": {},
   "source": [
    "Now we want to get the distanct value for sleep disoders"
   ]
  },
  {
   "cell_type": "code",
   "execution_count": 7,
   "id": "f4821215",
   "metadata": {},
   "outputs": [
    {
     "name": "stdout",
     "output_type": "stream",
     "text": [
      "['None' 'Insomnia' 'Sleep Apnea']\n"
     ]
    }
   ],
   "source": [
    "a = df['Sleep Disorder'].unique()\n",
    "print(a)"
   ]
  },
  {
   "cell_type": "markdown",
   "id": "5abf009a",
   "metadata": {},
   "source": [
    "Now we will try to implement classical machine learning to see if classifications can be made."
   ]
  },
  {
   "cell_type": "code",
   "execution_count": 10,
   "id": "e7c09fa7",
   "metadata": {},
   "outputs": [
    {
     "name": "stdout",
     "output_type": "stream",
     "text": [
      "Requirement already satisfied: scikit-learn in c:\\users\\benda\\anaconda3\\lib\\site-packages (1.0.2)\n",
      "Requirement already satisfied: numpy>=1.14.6 in c:\\users\\benda\\anaconda3\\lib\\site-packages (from scikit-learn) (1.21.5)\n",
      "Requirement already satisfied: threadpoolctl>=2.0.0 in c:\\users\\benda\\anaconda3\\lib\\site-packages (from scikit-learn) (2.2.0)\n",
      "Requirement already satisfied: scipy>=1.1.0 in c:\\users\\benda\\anaconda3\\lib\\site-packages (from scikit-learn) (1.7.3)\n",
      "Requirement already satisfied: joblib>=0.11 in c:\\users\\benda\\anaconda3\\lib\\site-packages (from scikit-learn) (1.1.1)\n"
     ]
    },
    {
     "name": "stderr",
     "output_type": "stream",
     "text": [
      "WARNING: You are using pip version 20.2.2; however, version 24.0 is available.\n",
      "You should consider upgrading via the 'c:\\users\\benda\\anaconda3\\python.exe -m pip install --upgrade pip' command.\n"
     ]
    },
    {
     "name": "stdout",
     "output_type": "stream",
     "text": [
      "Requirement already satisfied: numpy in c:\\users\\benda\\anaconda3\\lib\\site-packages (1.21.5)\n"
     ]
    },
    {
     "name": "stderr",
     "output_type": "stream",
     "text": [
      "WARNING: You are using pip version 20.2.2; however, version 24.0 is available.\n",
      "You should consider upgrading via the 'c:\\users\\benda\\anaconda3\\python.exe -m pip install --upgrade pip' command.\n"
     ]
    }
   ],
   "source": [
    "!pip install scikit-learn\n",
    "!pip install numpy\n"
   ]
  },
  {
   "cell_type": "code",
   "execution_count": 31,
   "id": "34310ced",
   "metadata": {},
   "outputs": [],
   "source": [
    "import numpy as np\n",
    "from sklearn.model_selection import train_test_split"
   ]
  },
  {
   "cell_type": "markdown",
   "id": "587ff6d2",
   "metadata": {},
   "source": [
    "We first need to map the text value with numerical value before training a model"
   ]
  },
  {
   "cell_type": "code",
   "execution_count": 44,
   "id": "a814dc4a",
   "metadata": {},
   "outputs": [],
   "source": [
    "mapping_heading = [\"Gender\",\"Occupation\", \"BMI Category\", \"Blood Pressure (systolic/diastolic)\", \"Sleep Disorder\"]\n",
    "for heading in mapping_heading:\n",
    "    mapping = {item:i for i, item in enumerate(df[heading].unique())}\n",
    "    df[heading] = df[heading].apply(lambda x: mapping[x])"
   ]
  },
  {
   "cell_type": "code",
   "execution_count": 45,
   "id": "b08924da",
   "metadata": {},
   "outputs": [],
   "source": [
    "train, test = train_test_split(df, test_size=0.2)"
   ]
  },
  {
   "cell_type": "code",
   "execution_count": 46,
   "id": "03925e54",
   "metadata": {},
   "outputs": [],
   "source": [
    "x_train, y_train = train.iloc[:, 1:-1], train.iloc[:,-1]\n",
    "x_test, y_test = test.iloc[:, 1:-1], test.iloc[:,-1]"
   ]
  },
  {
   "cell_type": "code",
   "execution_count": 47,
   "id": "cf667475",
   "metadata": {},
   "outputs": [
    {
     "data": {
      "text/html": [
       "<div>\n",
       "<style scoped>\n",
       "    .dataframe tbody tr th:only-of-type {\n",
       "        vertical-align: middle;\n",
       "    }\n",
       "\n",
       "    .dataframe tbody tr th {\n",
       "        vertical-align: top;\n",
       "    }\n",
       "\n",
       "    .dataframe thead th {\n",
       "        text-align: right;\n",
       "    }\n",
       "</style>\n",
       "<table border=\"1\" class=\"dataframe\">\n",
       "  <thead>\n",
       "    <tr style=\"text-align: right;\">\n",
       "      <th></th>\n",
       "      <th>Gender</th>\n",
       "      <th>Age</th>\n",
       "      <th>Occupation</th>\n",
       "      <th>Sleep Duration (hours)</th>\n",
       "      <th>Quality of Sleep (scale: 1-10)</th>\n",
       "      <th>Physical Activity Level (minutes/day)</th>\n",
       "      <th>Stress Level (scale: 1-10)</th>\n",
       "      <th>BMI Category</th>\n",
       "      <th>Blood Pressure (systolic/diastolic)</th>\n",
       "      <th>Heart Rate (bpm)</th>\n",
       "      <th>Daily Steps</th>\n",
       "    </tr>\n",
       "  </thead>\n",
       "  <tbody>\n",
       "    <tr>\n",
       "      <th>277</th>\n",
       "      <td>1</td>\n",
       "      <td>18</td>\n",
       "      <td>0</td>\n",
       "      <td>4.2</td>\n",
       "      <td>5.4</td>\n",
       "      <td>39</td>\n",
       "      <td>1</td>\n",
       "      <td>3</td>\n",
       "      <td>65</td>\n",
       "      <td>50</td>\n",
       "      <td>16520</td>\n",
       "    </tr>\n",
       "    <tr>\n",
       "      <th>159</th>\n",
       "      <td>1</td>\n",
       "      <td>56</td>\n",
       "      <td>2</td>\n",
       "      <td>11.0</td>\n",
       "      <td>3.8</td>\n",
       "      <td>80</td>\n",
       "      <td>2</td>\n",
       "      <td>1</td>\n",
       "      <td>130</td>\n",
       "      <td>55</td>\n",
       "      <td>17160</td>\n",
       "    </tr>\n",
       "    <tr>\n",
       "      <th>106</th>\n",
       "      <td>1</td>\n",
       "      <td>46</td>\n",
       "      <td>1</td>\n",
       "      <td>4.3</td>\n",
       "      <td>6.6</td>\n",
       "      <td>55</td>\n",
       "      <td>8</td>\n",
       "      <td>3</td>\n",
       "      <td>13</td>\n",
       "      <td>64</td>\n",
       "      <td>4217</td>\n",
       "    </tr>\n",
       "    <tr>\n",
       "      <th>260</th>\n",
       "      <td>0</td>\n",
       "      <td>18</td>\n",
       "      <td>1</td>\n",
       "      <td>4.8</td>\n",
       "      <td>6.3</td>\n",
       "      <td>33</td>\n",
       "      <td>9</td>\n",
       "      <td>1</td>\n",
       "      <td>65</td>\n",
       "      <td>98</td>\n",
       "      <td>2269</td>\n",
       "    </tr>\n",
       "    <tr>\n",
       "      <th>294</th>\n",
       "      <td>1</td>\n",
       "      <td>45</td>\n",
       "      <td>0</td>\n",
       "      <td>9.2</td>\n",
       "      <td>6.0</td>\n",
       "      <td>115</td>\n",
       "      <td>1</td>\n",
       "      <td>1</td>\n",
       "      <td>46</td>\n",
       "      <td>64</td>\n",
       "      <td>10467</td>\n",
       "    </tr>\n",
       "    <tr>\n",
       "      <th>...</th>\n",
       "      <td>...</td>\n",
       "      <td>...</td>\n",
       "      <td>...</td>\n",
       "      <td>...</td>\n",
       "      <td>...</td>\n",
       "      <td>...</td>\n",
       "      <td>...</td>\n",
       "      <td>...</td>\n",
       "      <td>...</td>\n",
       "      <td>...</td>\n",
       "      <td>...</td>\n",
       "    </tr>\n",
       "    <tr>\n",
       "      <th>340</th>\n",
       "      <td>0</td>\n",
       "      <td>41</td>\n",
       "      <td>2</td>\n",
       "      <td>4.1</td>\n",
       "      <td>6.0</td>\n",
       "      <td>58</td>\n",
       "      <td>1</td>\n",
       "      <td>0</td>\n",
       "      <td>102</td>\n",
       "      <td>58</td>\n",
       "      <td>3717</td>\n",
       "    </tr>\n",
       "    <tr>\n",
       "      <th>219</th>\n",
       "      <td>0</td>\n",
       "      <td>47</td>\n",
       "      <td>2</td>\n",
       "      <td>8.5</td>\n",
       "      <td>9.3</td>\n",
       "      <td>84</td>\n",
       "      <td>5</td>\n",
       "      <td>1</td>\n",
       "      <td>171</td>\n",
       "      <td>64</td>\n",
       "      <td>6920</td>\n",
       "    </tr>\n",
       "    <tr>\n",
       "      <th>212</th>\n",
       "      <td>0</td>\n",
       "      <td>50</td>\n",
       "      <td>3</td>\n",
       "      <td>10.8</td>\n",
       "      <td>5.8</td>\n",
       "      <td>29</td>\n",
       "      <td>8</td>\n",
       "      <td>2</td>\n",
       "      <td>166</td>\n",
       "      <td>91</td>\n",
       "      <td>14773</td>\n",
       "    </tr>\n",
       "    <tr>\n",
       "      <th>13</th>\n",
       "      <td>0</td>\n",
       "      <td>46</td>\n",
       "      <td>2</td>\n",
       "      <td>11.3</td>\n",
       "      <td>7.3</td>\n",
       "      <td>68</td>\n",
       "      <td>8</td>\n",
       "      <td>1</td>\n",
       "      <td>13</td>\n",
       "      <td>74</td>\n",
       "      <td>17020</td>\n",
       "    </tr>\n",
       "    <tr>\n",
       "      <th>276</th>\n",
       "      <td>0</td>\n",
       "      <td>55</td>\n",
       "      <td>0</td>\n",
       "      <td>10.1</td>\n",
       "      <td>7.8</td>\n",
       "      <td>94</td>\n",
       "      <td>9</td>\n",
       "      <td>0</td>\n",
       "      <td>49</td>\n",
       "      <td>58</td>\n",
       "      <td>10263</td>\n",
       "    </tr>\n",
       "  </tbody>\n",
       "</table>\n",
       "<p>320 rows × 11 columns</p>\n",
       "</div>"
      ],
      "text/plain": [
       "     Gender  Age  Occupation  Sleep Duration (hours)  \\\n",
       "277       1   18           0                     4.2   \n",
       "159       1   56           2                    11.0   \n",
       "106       1   46           1                     4.3   \n",
       "260       0   18           1                     4.8   \n",
       "294       1   45           0                     9.2   \n",
       "..      ...  ...         ...                     ...   \n",
       "340       0   41           2                     4.1   \n",
       "219       0   47           2                     8.5   \n",
       "212       0   50           3                    10.8   \n",
       "13        0   46           2                    11.3   \n",
       "276       0   55           0                    10.1   \n",
       "\n",
       "     Quality of Sleep (scale: 1-10)  Physical Activity Level (minutes/day)  \\\n",
       "277                             5.4                                     39   \n",
       "159                             3.8                                     80   \n",
       "106                             6.6                                     55   \n",
       "260                             6.3                                     33   \n",
       "294                             6.0                                    115   \n",
       "..                              ...                                    ...   \n",
       "340                             6.0                                     58   \n",
       "219                             9.3                                     84   \n",
       "212                             5.8                                     29   \n",
       "13                              7.3                                     68   \n",
       "276                             7.8                                     94   \n",
       "\n",
       "     Stress Level (scale: 1-10)  BMI Category  \\\n",
       "277                           1             3   \n",
       "159                           2             1   \n",
       "106                           8             3   \n",
       "260                           9             1   \n",
       "294                           1             1   \n",
       "..                          ...           ...   \n",
       "340                           1             0   \n",
       "219                           5             1   \n",
       "212                           8             2   \n",
       "13                            8             1   \n",
       "276                           9             0   \n",
       "\n",
       "     Blood Pressure (systolic/diastolic)  Heart Rate (bpm)  Daily Steps  \n",
       "277                                   65                50        16520  \n",
       "159                                  130                55        17160  \n",
       "106                                   13                64         4217  \n",
       "260                                   65                98         2269  \n",
       "294                                   46                64        10467  \n",
       "..                                   ...               ...          ...  \n",
       "340                                  102                58         3717  \n",
       "219                                  171                64         6920  \n",
       "212                                  166                91        14773  \n",
       "13                                    13                74        17020  \n",
       "276                                   49                58        10263  \n",
       "\n",
       "[320 rows x 11 columns]"
      ]
     },
     "execution_count": 47,
     "metadata": {},
     "output_type": "execute_result"
    }
   ],
   "source": [
    "x_train"
   ]
  },
  {
   "cell_type": "code",
   "execution_count": 48,
   "id": "de416017",
   "metadata": {},
   "outputs": [
    {
     "data": {
      "text/plain": [
       "277    0\n",
       "159    1\n",
       "106    0\n",
       "260    0\n",
       "294    0\n",
       "      ..\n",
       "340    0\n",
       "219    0\n",
       "212    1\n",
       "13     0\n",
       "276    0\n",
       "Name: Sleep Disorder, Length: 320, dtype: int64"
      ]
     },
     "execution_count": 48,
     "metadata": {},
     "output_type": "execute_result"
    }
   ],
   "source": [
    "y_train"
   ]
  },
  {
   "cell_type": "code",
   "execution_count": 49,
   "id": "eef2bb9e",
   "metadata": {},
   "outputs": [],
   "source": [
    "from sklearn.naive_bayes import GaussianNB"
   ]
  },
  {
   "cell_type": "code",
   "execution_count": 50,
   "id": "972c1f01",
   "metadata": {},
   "outputs": [],
   "source": [
    "gnb = GaussianNB()"
   ]
  },
  {
   "cell_type": "code",
   "execution_count": 51,
   "id": "6a1d9302",
   "metadata": {},
   "outputs": [],
   "source": [
    "y_pred = gnb.fit(x_train, y_train).predict(x_test)"
   ]
  },
  {
   "cell_type": "code",
   "execution_count": 53,
   "id": "0896fb63",
   "metadata": {},
   "outputs": [
    {
     "name": "stdout",
     "output_type": "stream",
     "text": [
      "Number of mislabeled points out of a total 80 points : 20\n"
     ]
    }
   ],
   "source": [
    "print(\"Number of mislabeled points out of a total %d points : %d\" % \n",
    "      (x_test.shape[0], (y_test != y_pred).sum()))"
   ]
  },
  {
   "cell_type": "code",
   "execution_count": 54,
   "id": "7bf5d7d8",
   "metadata": {},
   "outputs": [],
   "source": [
    "from sklearn.metrics import f1_score"
   ]
  },
  {
   "cell_type": "code",
   "execution_count": 56,
   "id": "a2550621",
   "metadata": {},
   "outputs": [
    {
     "name": "stdout",
     "output_type": "stream",
     "text": [
      "[0.85714286 0.         0.        ]\n",
      "0.75\n",
      "0.2857142857142857\n",
      "0.6428571428571428\n"
     ]
    }
   ],
   "source": [
    "# Calculate F1 score for each class separately\n",
    "f1_per_class = f1_score(y_test, y_pred, average=None)\n",
    "\n",
    "# Calculate micro-average F1 score\n",
    "f1_micro = f1_score(y_test, y_pred, average='micro')\n",
    "\n",
    "# Calculate macro-average F1 score\n",
    "f1_macro = f1_score(y_test, y_pred, average='macro')\n",
    "\n",
    "# Calculate weighted-average F1 score\n",
    "f1_weighted = f1_score(y_test, y_pred, average='weighted')\n",
    "\n",
    "print(f1_per_class)\n",
    "print(f1_micro)\n",
    "print(f1_macro)\n",
    "print(f1_weighted)"
   ]
  },
  {
   "cell_type": "code",
   "execution_count": null,
   "id": "5164581d",
   "metadata": {},
   "outputs": [],
   "source": []
  }
 ],
 "metadata": {
  "kernelspec": {
   "display_name": "Python 3 (ipykernel)",
   "language": "python",
   "name": "python3"
  },
  "language_info": {
   "codemirror_mode": {
    "name": "ipython",
    "version": 3
   },
   "file_extension": ".py",
   "mimetype": "text/x-python",
   "name": "python",
   "nbconvert_exporter": "python",
   "pygments_lexer": "ipython3",
   "version": "3.7.3"
  }
 },
 "nbformat": 4,
 "nbformat_minor": 5
}
